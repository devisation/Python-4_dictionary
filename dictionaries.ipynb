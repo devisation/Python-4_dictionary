{
 "cells": [
  {
   "cell_type": "markdown",
   "metadata": {},
   "source": [
    "1"
   ]
  },
  {
   "cell_type": "code",
   "execution_count": 14,
   "metadata": {},
   "outputs": [
    {
     "name": "stdout",
     "output_type": "stream",
     "text": [
      "{'Monday': 1, 'Tuesday': 2, 'Wednesday': 3, 'Thursday': 4, 'Friday': 5, 'Saturday': 6, 'Sunday': 7} \n",
      "\n",
      "Monday\n",
      "Tuesday\n",
      "Thursday\n",
      "Saturday\n",
      "Sunday\n",
      "\n",
      " {'Monday': 1, 'Tuesday': 2, 'Thursday': 4, 'Saturday': 6, 'Sunday': 7}\n"
     ]
    }
   ],
   "source": [
    "days_in_week = [\"Monday\", \n",
    "                \"Tuesday\", \n",
    "                \"Wednesday\", \n",
    "                \"Thursday\", \n",
    "                \"Friday\", \n",
    "                \"Saturday\", \n",
    "                \"Sunday\"]\n",
    "week_dict = {day:n+1 for n,day in enumerate(days_in_week)}\n",
    "print(week_dict,'\\n')\n",
    "excluded_days = list(input(\"Enter 2 day of the week numbers (1-7 for Mon-Sun; eg '27' for Tues and Sun) to exclude:\"))\n",
    "for day in days_in_week:\n",
    "    if str(week_dict[day]) not in excluded_days:\n",
    "        print(day)\n",
    "    else:\n",
    "        week_dict.pop(day, None)\n",
    "print('\\n', week_dict)"
   ]
  },
  {
   "cell_type": "markdown",
   "metadata": {},
   "source": [
    "2"
   ]
  },
  {
   "cell_type": "code",
   "execution_count": 1,
   "metadata": {},
   "outputs": [
    {
     "data": {
      "text/plain": [
       "{'Michael': {'age': 30, 'gender': 'M', 'children': {}},\n",
       " 'Linda': {'age': 35, 'gender': 'F', 'children': {}},\n",
       " 'John': {'age': 25, 'gender': 'M', 'children': {}}}"
      ]
     },
     "execution_count": 1,
     "metadata": {},
     "output_type": "execute_result"
    }
   ],
   "source": [
    "personnel = {\n",
    "    'Michael': {\n",
    "        'age': 30,\n",
    "        'gender': 'M',\n",
    "        'children': {}\n",
    "    },\n",
    "    'Linda': {\n",
    "        'age': 35,\n",
    "        'gender': 'F',\n",
    "        'children': {}\n",
    "    },\n",
    "    'John': {\n",
    "        'age': 25,\n",
    "        'gender': 'M',\n",
    "        'children': {}\n",
    "    },\n",
    "}\n",
    "personnel"
   ]
  },
  {
   "cell_type": "markdown",
   "metadata": {},
   "source": [
    "3"
   ]
  },
  {
   "cell_type": "code",
   "execution_count": 2,
   "metadata": {},
   "outputs": [
    {
     "data": {
      "text/plain": [
       "{'Michael': {'age': 30,\n",
       "  'gender': 'M',\n",
       "  'children': {'Karen': {'age': 12, 'gender': 'F'},\n",
       "   'Greg': {'age': 7, 'gender': 'M'}}},\n",
       " 'Linda': {'age': 35,\n",
       "  'gender': 'F',\n",
       "  'children': {'Susan': {'age': 6, 'gender': 'F'}}},\n",
       " 'John': {'age': 25, 'gender': 'M', 'children': {}}}"
      ]
     },
     "execution_count": 2,
     "metadata": {},
     "output_type": "execute_result"
    }
   ],
   "source": [
    "personnel['Michael']['children'] = {\n",
    "            'Karen': {'age': 12, 'gender': 'F'},\n",
    "            'Greg': {'age': 7, 'gender': 'M'}}\n",
    "\n",
    "personnel['Linda']['children'] = {\n",
    "            'Susan': {'age': 6, 'gender': 'F'}}\n",
    "\n",
    "personnel"
   ]
  },
  {
   "cell_type": "markdown",
   "metadata": {},
   "source": [
    "4"
   ]
  },
  {
   "cell_type": "code",
   "execution_count": 4,
   "metadata": {},
   "outputs": [
    {
     "name": "stdout",
     "output_type": "stream",
     "text": [
      "['Karen', 'Greg']\n"
     ]
    }
   ],
   "source": [
    "print(list(personnel['Michael']['children'].keys()))"
   ]
  },
  {
   "cell_type": "markdown",
   "metadata": {},
   "source": [
    "5"
   ]
  },
  {
   "cell_type": "code",
   "execution_count": 5,
   "metadata": {},
   "outputs": [],
   "source": [
    "def fillable(f_stock, f_merch, f_n):\n",
    "    \"\"\"\n",
    "        f_stock takes the dictionary representing all the merchandise you have in stock. \\\\\n",
    "        f_merch takes the merchandise your customer wants to buy. \\\\\n",
    "        f_n takes the number of units of f_merch they would like to buy.\n",
    "    \"\"\"\n",
    "    if f_stock[f_merch] >= f_n:\n",
    "        return True\n",
    "    else:\n",
    "        return False"
   ]
  },
  {
   "cell_type": "code",
   "execution_count": 6,
   "metadata": {},
   "outputs": [],
   "source": [
    "stock = {\n",
    "    'earbuds': 20,\n",
    "    'microphones': 72,\n",
    "    'speakers': 14,\n",
    "    'headsets': 59,\n",
    "    'webcams': 37\n",
    "}"
   ]
  },
  {
   "cell_type": "markdown",
   "metadata": {},
   "source": [
    "6"
   ]
  },
  {
   "cell_type": "code",
   "execution_count": 8,
   "metadata": {},
   "outputs": [
    {
     "name": "stdout",
     "output_type": "stream",
     "text": [
      "False\n"
     ]
    }
   ],
   "source": [
    "merch = 'earbuds'\n",
    "n = 15\n",
    "\n",
    "avail_stock = fillable(stock, merch, n)\n",
    "print(avail_stock)"
   ]
  }
 ],
 "metadata": {
  "interpreter": {
   "hash": "23721f7ccdba8d10dbed52de1ec10dc723c7659d2c7ca391d31ecfb7851a1907"
  },
  "kernelspec": {
   "display_name": "Python 3.9.12 ('DataSci')",
   "language": "python",
   "name": "python3"
  },
  "language_info": {
   "codemirror_mode": {
    "name": "ipython",
    "version": 3
   },
   "file_extension": ".py",
   "mimetype": "text/x-python",
   "name": "python",
   "nbconvert_exporter": "python",
   "pygments_lexer": "ipython3",
   "version": "3.9.12"
  },
  "orig_nbformat": 4
 },
 "nbformat": 4,
 "nbformat_minor": 2
}
